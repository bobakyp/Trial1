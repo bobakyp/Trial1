{
 "cells": [
  {
   "cell_type": "markdown",
   "id": "c95ebad1",
   "metadata": {},
   "source": [
    "# Residential Potential Study Figures"
   ]
  },
  {
   "cell_type": "markdown",
   "id": "50631fe0",
   "metadata": {},
   "source": [
    "#### 1. Import relevant packages"
   ]
  },
  {
   "cell_type": "code",
   "execution_count": 17,
   "id": "149c6c14",
   "metadata": {},
   "outputs": [],
   "source": [
    "import sys\n",
    "import os\n",
    "#import glob\n",
    "#import sqlalchemy\n",
    "import pandas as pd\n",
    "#import numpy as np\n",
    "#import ipywidgets as widgets\n",
    "#import textwrap\n",
    "#import ipywidgets\n",
    "from ipywidgets import interact, interactive, fixed, interact_manual\n",
    "#import IPython.display\n",
    "#from IPython.display import display, clear_output\n",
    "\n",
    "#import plotly.graph_objects as go\n",
    "path1 = os.getcwd()\n",
    "sys.path.append(\"../../..\")"
   ]
  },
  {
   "cell_type": "code",
   "execution_count": 18,
   "id": "d7933ea0",
   "metadata": {},
   "outputs": [],
   "source": [
    "#from ipywidgets import FileUpload\n",
    "#upload = FileUpload()\n",
    "#display(\"Please upload the potential study flat file\")\n",
    "#upload\n"
   ]
  },
  {
   "cell_type": "code",
   "execution_count": 19,
   "id": "106076a3",
   "metadata": {},
   "outputs": [],
   "source": [
    "#[input_file] = upload.value\n",
    "#print(input_file)\n",
    "#df_Savings = pd.read_excel(input_file)"
   ]
  },
  {
   "cell_type": "markdown",
   "id": "18c2ff3e",
   "metadata": {},
   "source": [
    "#### 2. Grab and plot program specific yearly Market Potential savings data from Residential Potential Study Flat files"
   ]
  },
  {
   "cell_type": "code",
   "execution_count": 20,
   "id": "560dc210",
   "metadata": {},
   "outputs": [
    {
     "data": {
      "application/vnd.jupyter.widget-view+json": {
       "model_id": "dcce270d72854046a54362b8618b6ed2",
       "version_major": 2,
       "version_minor": 0
      },
      "text/plain": [
       "interactive(children=(Dropdown(description='Program:', index=11, options=('Consumer Rebate Program - Future Of…"
      ]
     },
     "metadata": {},
     "output_type": "display_data"
    },
    {
     "data": {
      "text/plain": [
       "<function __main__.func1(Program_name)>"
      ]
     },
     "execution_count": 20,
     "metadata": {},
     "output_type": "execute_result"
    }
   ],
   "source": [
    "# read each sheet of Resi excel file\n",
    "drop_down = ipywidgets.Dropdown(options = ['Consumer Rebate Program - Future Offering',\n",
    "                                           'Residential Lighting Efficiency Program', 'City Plants',\n",
    "                                           'Behavioral Program - Future Offering',\n",
    "                                           'Residential New Construction - Future Offering',\n",
    "                                           'Consumer Rebate Program', 'Efficient Product Marketplace',\n",
    "                                           'HVAC Optimization', 'Window AC Recycling',\n",
    "                                           'Refrigerator Turn-In & Recycle',\n",
    "                                           'HVAC Optimization - Future Offering', 'CAMR',\n",
    "                                           'Refrigerator Exchange', 'Home Energy Improvement Program',\n",
    "                                           'Efficient Product Marketplace - Future Offering',\n",
    "                                           'Residential Lighting Efficiency Program - Future Offering',\n",
    "                                           'Biz-CDI'],\n",
    "                                   value ='CAMR',\n",
    "                                   description = 'Program:',\n",
    "                                   disabled = False,\n",
    "                                   )\n",
    "def func1(Program_name):\n",
    "    df_Savings = pd.read_excel('PS_Residential_Results.xlsx', sheet_name = 'Res Energy Savings')\n",
    "#df_TP_Savings = pd.read_excel('PS_Residential_Results.xlsx', sheet_name = 'Res TP')\n",
    "#df_Participants = pd.read_excel('PS_Residential_Results.xlsx', sheet_name = 'Res Participants')\n",
    "#df_Costs = pd.read_excel('PS_Residential_Results.xlsx', sheet_name = 'Res Costs')\n",
    "\n",
    "\n",
    "#Rename column headers\n",
    "    Program_Savings = df_Savings.loc[:,['Realistic Achievable Potential By Measure','Unnamed: 3',\\\n",
    "                                         'Cumulative Annual Energy (MWh) Savings - GROSS','Unnamed: 30','Unnamed: 31',\\\n",
    "                                        'Unnamed: 32','Unnamed: 33','Unnamed: 34','Unnamed: 35','Unnamed: 36','Unnamed: 37',\\\n",
    "                                        'Unnamed: 38','Unnamed: 39','Unnamed: 40','Unnamed: 41','Unnamed: 42','Unnamed: 43',\\\n",
    "                                        'Unnamed: 44','Unnamed: 45','Unnamed: 46','Unnamed: 47','Unnamed: 48']]\n",
    "    dict = {'Cumulative Annual Energy (MWh) Savings - GROSS':'2022','Unnamed: 30':'2023','Unnamed: 31':'2024',\\\n",
    "        'Unnamed: 32':'2025','Unnamed: 33':'2026','Unnamed: 34':'2027','Unnamed: 35':'2028','Unnamed: 36':'2029',\\\n",
    "        'Unnamed: 37':'2030','Unnamed: 38':'2031','Unnamed: 39':'2032','Unnamed: 40':'2033','Unnamed: 41':'2034',\\\n",
    "        'Unnamed: 42':'2035','Unnamed: 43':'2036','Unnamed: 44':'2037','Unnamed: 45':'2038','Unnamed: 46':'2039',\\\n",
    "        'Unnamed: 47':'2040','Unnamed: 48':'2041','Realistic Achievable Potential By Measure':'Measure',\\\n",
    "       'Unnamed: 3':'Program'}\n",
    "    Program_Savings.rename(columns=dict,inplace=True)\n",
    "\n",
    "#condition for program name\n",
    "    #Program_name = ['CAMR']\n",
    "    Program_Savings = Program_Savings.loc[Program_Savings['Program'].isin([Program_name])] \n",
    "    # selecting rows based on program_name condition \n",
    "    \n",
    "    Program_Savings = Program_Savings.reset_index(drop=True)\n",
    "\n",
    "#display(Program_Savings)\n",
    "    Savings_PerYear = (Program_Savings.sum(axis = 0, skipna =True))\n",
    "    Savings_PerYear = Savings_PerYear.reset_index(drop = False)\n",
    "    Savings_PerYear = Savings_PerYear.drop(Savings_PerYear.index[[0,1]])\n",
    "    dict = {'index': 'Year', 0:'{} Market potential Savings'.format(Program_name)}\n",
    "    Savings_PerYear.rename(columns=dict,inplace=True)\n",
    "    Savings_PerYear = Savings_PerYear.reset_index(drop = True)\n",
    "    Savings_PerYear['{} Market potential Savings'.format(Program_name)] = \\\n",
    "    Savings_PerYear['{} Market potential Savings'.format(Program_name)].div(1000)\n",
    "#Savings_PerYear = Savings_PerYear.reset_index(drop = False)\n",
    "#display(Savings_PerYear)\n",
    "#display(Program_Savings.head())\n",
    "    Title = Program_name + 'Market potential Savings'\n",
    "    x = Savings_PerYear.plot('Year', '{} Market potential Savings'.format(Program_name) , xlabel='Year',ylabel='GWh')\n",
    "    x.set_title('{} Market potential Savings'.format(Program_name))\n",
    "    x.get_legend().remove()\n",
    "#, kind = 'scatter')\n",
    "    #return(x)\n",
    "    return(Savings_PerYear)\n",
    "#print(txt.format(price = 49))     \n",
    "ipywidgets.interact(func1, Program_name = drop_down )"
   ]
  },
  {
   "cell_type": "code",
   "execution_count": null,
   "id": "e15c279e",
   "metadata": {},
   "outputs": [],
   "source": []
  },
  {
   "cell_type": "code",
   "execution_count": 5,
   "id": "6f360545",
   "metadata": {},
   "outputs": [],
   "source": [
    "#import anvil.server\n",
    "#anvil.server.connect(\"IQ6PYOP366RGVOI3UYNKC5ME-DQP4URRW7PJNTP5U\")"
   ]
  },
  {
   "cell_type": "code",
   "execution_count": 6,
   "id": "2c12a844",
   "metadata": {},
   "outputs": [],
   "source": [
    "#@anvil.server.callable"
   ]
  },
  {
   "cell_type": "code",
   "execution_count": 22,
   "id": "b83f25ef",
   "metadata": {},
   "outputs": [
    {
     "name": "stdout",
     "output_type": "stream",
     "text": [
      "Python implementation: CPython\n",
      "Python version       : 3.8.8\n",
      "IPython version      : 7.22.0\n",
      "\n",
      "sys       : 3.8.8 (default, Apr 13 2021, 15:08:03) [MSC v.1916 64 bit (AMD64)]\n",
      "os        : unknown\n",
      "pandas    : 1.2.4\n",
      "ipywidgets: 7.6.3\n",
      "\n",
      "Compiler    : MSC v.1916 64 bit (AMD64)\n",
      "OS          : Windows\n",
      "Release     : 10\n",
      "Machine     : AMD64\n",
      "Processor   : Intel64 Family 6 Model 126 Stepping 5, GenuineIntel\n",
      "CPU cores   : 8\n",
      "Architecture: 64bit\n",
      "\n",
      " \n"
     ]
    },
    {
     "ename": "NameError",
     "evalue": "name 'watermark' is not defined",
     "output_type": "error",
     "traceback": [
      "\u001b[1;31m---------------------------------------------------------------------------\u001b[0m",
      "\u001b[1;31mNameError\u001b[0m                                 Traceback (most recent call last)",
      "\u001b[1;32m<ipython-input-22-2abe9f3dafa1>\u001b[0m in \u001b[0;36m<module>\u001b[1;34m\u001b[0m\n\u001b[0;32m      4\u001b[0m \u001b[0mprint\u001b[0m\u001b[1;33m(\u001b[0m\u001b[1;34m\" \"\u001b[0m\u001b[1;33m)\u001b[0m\u001b[1;33m\u001b[0m\u001b[1;33m\u001b[0m\u001b[0m\n\u001b[0;32m      5\u001b[0m \u001b[1;33m\u001b[0m\u001b[0m\n\u001b[1;32m----> 6\u001b[1;33m \u001b[0mwatermark\u001b[0m \u001b[1;33m-\u001b[0m\u001b[0mu\u001b[0m \u001b[1;33m-\u001b[0m\u001b[0mn\u001b[0m \u001b[1;33m-\u001b[0m\u001b[0mt\u001b[0m \u001b[1;33m-\u001b[0m\u001b[0mz\u001b[0m\u001b[1;33m\u001b[0m\u001b[1;33m\u001b[0m\u001b[0m\n\u001b[0m",
      "\u001b[1;31mNameError\u001b[0m: name 'watermark' is not defined"
     ]
    }
   ],
   "source": [
    "%load_ext watermark\n",
    "\n",
    "%watermark -v -m -p sys,os,pandas,ipywidgets\n",
    "print(\" \")\n",
    "\n",
    "watermark -u -n -t -z"
   ]
  },
  {
   "cell_type": "code",
   "execution_count": null,
   "id": "ed18d338-600e-4907-b272-b20b4030babb",
   "metadata": {},
   "outputs": [],
   "source": []
  }
 ],
 "metadata": {
  "kernelspec": {
   "display_name": "Python 3",
   "language": "python",
   "name": "python3"
  },
  "language_info": {
   "codemirror_mode": {
    "name": "ipython",
    "version": 3
   },
   "file_extension": ".py",
   "mimetype": "text/x-python",
   "name": "python",
   "nbconvert_exporter": "python",
   "pygments_lexer": "ipython3",
   "version": "3.8.8"
  }
 },
 "nbformat": 4,
 "nbformat_minor": 5
}
