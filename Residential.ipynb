{
 "cells": [
  {
   "cell_type": "markdown",
   "id": "c95ebad1",
   "metadata": {},
   "source": [
    "# Residential Potential Study Figures"
   ]
  },
  {
   "cell_type": "markdown",
   "id": "50631fe0",
   "metadata": {},
   "source": [
    "#### 1. Import relevant packages"
   ]
  },
  {
   "cell_type": "code",
   "execution_count": 1,
   "id": "149c6c14",
   "metadata": {},
   "outputs": [],
   "source": [
    "import sys\n",
    "import os\n",
    "import glob\n",
    "#import sqlalchemy\n",
    "import pandas as pd\n",
    "#import numpy as np\n",
    "#import ipywidgets as widgets\n",
    "#import numpy as np\n",
    "#import pandas as pd\n",
    "#import textwrap\n",
    "#import ipywidgets\n",
    "from ipywidgets import interact, interactive, fixed, interact_manual\n",
    "#import IPython.display\n",
    "#from IPython.display import display, clear_output\n",
    "\n",
    "#import plotly.graph_objects as go\n",
    "path1 = os.getcwd()\n",
    "sys.path.append(\"../../..\")"
   ]
  },
  {
   "cell_type": "markdown",
   "id": "18c2ff3e",
   "metadata": {},
   "source": [
    "#### 2. Grab and plot program specific yearly Market Potential savings data from Residential Potential Study Flat files"
   ]
  },
  {
   "cell_type": "code",
   "execution_count": 48,
   "id": "560dc210",
   "metadata": {},
   "outputs": [
    {
     "data": {
      "application/vnd.jupyter.widget-view+json": {
       "model_id": "6c6bda1f25b043f0872525129d0a0869",
       "version_major": 2,
       "version_minor": 0
      },
      "text/plain": [
       "interactive(children=(Dropdown(description='Choose Program', index=11, options=('Consumer Rebate Program - Fut…"
      ]
     },
     "metadata": {},
     "output_type": "display_data"
    },
    {
     "data": {
      "text/plain": [
       "<function __main__.func1(Program_name)>"
      ]
     },
     "execution_count": 48,
     "metadata": {},
     "output_type": "execute_result"
    }
   ],
   "source": []
  },
  {
   "cell_type": "code",
   "execution_count": null,
   "id": "6f360545",
   "metadata": {},
   "outputs": [],
   "source": []
  },
  {
   "cell_type": "code",
   "execution_count": null,
   "id": "5b73201a",
   "metadata": {},
   "outputs": [],
   "source": []
  },
  {
   "cell_type": "code",
   "execution_count": null,
   "id": "40659aae",
   "metadata": {},
   "outputs": [],
   "source": []
  },
  {
   "cell_type": "code",
   "execution_count": null,
   "id": "7c4851d0",
   "metadata": {},
   "outputs": [],
   "source": []
  },
  {
   "cell_type": "code",
   "execution_count": null,
   "id": "8e2bf843",
   "metadata": {},
   "outputs": [],
   "source": []
  },
  {
   "cell_type": "code",
   "execution_count": null,
   "id": "b429dab2",
   "metadata": {},
   "outputs": [],
   "source": []
  },
  {
   "cell_type": "code",
   "execution_count": null,
   "id": "deca6a1b",
   "metadata": {},
   "outputs": [],
   "source": []
  },
  {
   "cell_type": "code",
   "execution_count": 2,
   "id": "f1db7353",
   "metadata": {},
   "outputs": [
    {
     "name": "stdout",
     "output_type": "stream",
     "text": [
      "<class 'str'>\n"
     ]
    },
    {
     "data": {
      "image/png": "[encoded data removed]",
      "text/plain": [
       "<Figure size 432x288 with 1 Axes>"
      ]
     },
     "metadata": {
      "needs_background": "light"
     },
     "output_type": "display_data"
    }
   ],
   "source": [
    "# read each sheet of Resi excel file\n",
    "df_Savings = pd.read_excel('PS_Residential_Results.xlsx', sheet_name = 'Res Energy Savings')\n",
    "#df_TP_Savings = pd.read_excel('PS_Residential_Results.xlsx', sheet_name = 'Res TP')\n",
    "#df_Participants = pd.read_excel('PS_Residential_Results.xlsx', sheet_name = 'Res Participants')\n",
    "#df_Costs = pd.read_excel('PS_Residential_Results.xlsx', sheet_name = 'Res Costs')\n",
    "\n",
    "\n",
    "#Rename column headers\n",
    "Program_Savings = df_Savings.loc[:,['Realistic Achievable Potential By Measure','Unnamed: 3',\\\n",
    "                                         'Cumulative Annual Energy (MWh) Savings - GROSS','Unnamed: 30','Unnamed: 31',\\\n",
    "                                        'Unnamed: 32','Unnamed: 33','Unnamed: 34','Unnamed: 35','Unnamed: 36','Unnamed: 37',\\\n",
    "                                        'Unnamed: 38','Unnamed: 39','Unnamed: 40','Unnamed: 41','Unnamed: 42','Unnamed: 43',\\\n",
    "                                        'Unnamed: 44','Unnamed: 45','Unnamed: 46','Unnamed: 47','Unnamed: 48']]\n",
    "dict = {'Cumulative Annual Energy (MWh) Savings - GROSS':'2022','Unnamed: 30':'2023','Unnamed: 31':'2024',\\\n",
    "        'Unnamed: 32':'2025','Unnamed: 33':'2026','Unnamed: 34':'2027','Unnamed: 35':'2028','Unnamed: 36':'2029',\\\n",
    "        'Unnamed: 37':'2030','Unnamed: 38':'2031','Unnamed: 39':'2032','Unnamed: 40':'2033','Unnamed: 41':'2034',\\\n",
    "        'Unnamed: 42':'2035','Unnamed: 43':'2036','Unnamed: 44':'2037','Unnamed: 45':'2038','Unnamed: 46':'2039',\\\n",
    "        'Unnamed: 47':'2040','Unnamed: 48':'2041','Realistic Achievable Potential By Measure':'Measure',\\\n",
    "       'Unnamed: 3':'Program'}\n",
    "Program_Savings.rename(columns=dict,inplace=True)\n",
    "\n",
    "#condition for program name\n",
    "Program_name = 'CAMR'\n",
    "\n",
    "# selecting rows based on program_name condition \n",
    "Program_Savings = Program_Savings.loc[Program_Savings['Program'].isin([Program_name])]\n",
    "Program_Savings = Program_Savings.reset_index(drop=True)\n",
    "\n",
    "#display(Program_Savings)\n",
    "Savings_PerYear = Program_Savings.sum(axis = 0, skipna =True)\n",
    "Savings_PerYear = Savings_PerYear.reset_index(drop = False)\n",
    "Savings_PerYear = Savings_PerYear.drop(Savings_PerYear.index[[0,1]])\n",
    "dict = {'index': 'Year', 0:'Savings'}\n",
    "Savings_PerYear.rename(columns=dict,inplace=True)\n",
    "Savings_PerYear = Savings_PerYear.reset_index(drop = True)\n",
    "#Savings_PerYear = Savings_PerYear.reset_index(drop = False)\n",
    "#display(Savings_PerYear)\n",
    "#display(Program_Savings.head())\n",
    "print(type(Program_name))\n",
    "x = Savings_PerYear.plot('Year', 'Savings',xlabel='Year',ylabel='MWh')\n",
    "\n",
    "#, kind = 'scatter')"
   ]
  },
  {
   "cell_type": "code",
   "execution_count": 47,
   "id": "8a0cc4e0",
   "metadata": {},
   "outputs": [
    {
     "data": {
      "text/plain": [
       "array(['Program', 'Consumer Rebate Program - Future Offering',\n",
       "       'Residential Lighting Efficiency Program', 'City Plants',\n",
       "       'Behavioral Program - Future Offering',\n",
       "       'Residential New Construction - Future Offering',\n",
       "       'Consumer Rebate Program', 'Efficient Product Marketplace',\n",
       "       'HVAC Optimization', 'Window AC Recycling',\n",
       "       'Refrigerator Turn-In & Recycle',\n",
       "       'HVAC Optimization - Future Offering', 'CAMR',\n",
       "       'Refrigerator Exchange', 'Home Energy Improvement Program',\n",
       "       'Efficient Product Marketplace - Future Offering',\n",
       "       'Residential Lighting Efficiency Program - Future Offering',\n",
       "       'Biz-CDI', 'No program'], dtype=object)"
      ]
     },
     "metadata": {},
     "output_type": "display_data"
    }
   ],
   "source": [
    "# read each sheet of Resi excel file\n",
    "df_Savings = pd.read_excel('PS_Residential_Results.xlsx', sheet_name = 'Res Energy Savings')\n",
    "#df_TP_Savings = pd.read_excel('PS_Residential_Results.xlsx', sheet_name = 'Res TP')\n",
    "#df_Participants = pd.read_excel('PS_Residential_Results.xlsx', sheet_name = 'Res Participants')\n",
    "#df_Costs = pd.read_excel('PS_Residential_Results.xlsx', sheet_name = 'Res Costs')\n",
    "\n",
    "\n",
    "#Rename column headers\n",
    "Program_Savings = df_Savings.loc[:,['Realistic Achievable Potential By Measure','Unnamed: 3',\\\n",
    "                                         'Cumulative Annual Energy (MWh) Savings - GROSS','Unnamed: 30','Unnamed: 31',\\\n",
    "                                        'Unnamed: 32','Unnamed: 33','Unnamed: 34','Unnamed: 35','Unnamed: 36','Unnamed: 37',\\\n",
    "                                        'Unnamed: 38','Unnamed: 39','Unnamed: 40','Unnamed: 41','Unnamed: 42','Unnamed: 43',\\\n",
    "                                        'Unnamed: 44','Unnamed: 45','Unnamed: 46','Unnamed: 47','Unnamed: 48']]\n",
    "dict = {'Cumulative Annual Energy (MWh) Savings - GROSS':'2022','Unnamed: 30':'2023','Unnamed: 31':'2024',\\\n",
    "        'Unnamed: 32':'2025','Unnamed: 33':'2026','Unnamed: 34':'2027','Unnamed: 35':'2028','Unnamed: 36':'2029',\\\n",
    "        'Unnamed: 37':'2030','Unnamed: 38':'2031','Unnamed: 39':'2032','Unnamed: 40':'2033','Unnamed: 41':'2034',\\\n",
    "        'Unnamed: 42':'2035','Unnamed: 43':'2036','Unnamed: 44':'2037','Unnamed: 45':'2038','Unnamed: 46':'2039',\\\n",
    "        'Unnamed: 47':'2040','Unnamed: 48':'2041','Realistic Achievable Potential By Measure':'Measure',\\\n",
    "       'Unnamed: 3':'Program'}\n",
    "Program_Savings.rename(columns=dict,inplace=True)\n",
    "\n",
    "#condition for program name\n",
    "Program_name = 'CAMR'\n",
    "\n",
    "# selecting rows based on program_name condition \n",
    "x = Program_Savings.Program.unique()\n",
    "display(x)"
   ]
  },
  {
   "cell_type": "code",
   "execution_count": null,
   "id": "bf51839f",
   "metadata": {},
   "outputs": [],
   "source": []
  }
 ],
 "metadata": {
  "kernelspec": {
   "display_name": "Python 3",
   "language": "python",
   "name": "python3"
  },
  "language_info": {
   "codemirror_mode": {
    "name": "ipython",
    "version": 3
   },
   "file_extension": ".py",
   "mimetype": "text/x-python",
   "name": "python",
   "nbconvert_exporter": "python",
   "pygments_lexer": "ipython3",
   "version": "3.8.8"
  }
 },
 "nbformat": 4,
 "nbformat_minor": 5
}
